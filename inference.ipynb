{
 "cells": [
  {
   "cell_type": "code",
   "execution_count": 2,
   "id": "b8b8b264",
   "metadata": {},
   "outputs": [],
   "source": [
    "import time"
   ]
  },
  {
   "cell_type": "code",
   "execution_count": 5,
   "id": "6aab8c51",
   "metadata": {},
   "outputs": [
    {
     "name": "stdout",
     "output_type": "stream",
     "text": [
      "Traceback (most recent call last):\n",
      "  File \"evaluate_depth.py\", line 308, in <module>\n",
      "    evaluate(options.parse())\n",
      "  File \"evaluate_depth.py\", line 76, in evaluate\n",
      "    \"Cannot find a folder at {}\".format(opt.load_weights_folder)\n",
      "AssertionError: Cannot find a folder at history/models/resnet_hr\n",
      "infer_duration:3.6033854484558105\n"
     ]
    }
   ],
   "source": [
    "start = time.time()\n",
    "!CUDA_VISIBLE_DEVICES=1 python evaluate_depth.py --load_weights_folder \"history/models/resnet_hr\" \\\n",
    "                                                --png --eval_mono \\\n",
    "                                                --backbone resnet \\\n",
    "                                                --depth_decoder hr_depth                                                \n",
    "end = time.time()\n",
    "print(f'infer_duration:{end-start}')"
   ]
  },
  {
   "cell_type": "code",
   "execution_count": 6,
   "id": "57d52fe0",
   "metadata": {},
   "outputs": [
    {
     "name": "stdout",
     "output_type": "stream",
     "text": [
      "-> Loading weights from history/model_26_09_lite/models_1/weights_1\n",
      "/root/miniconda3/envs/mm-cuda11.1-torch1.9/lib/python3.7/site-packages/torchvision/transforms/transforms.py:288: UserWarning: Argument interpolation should be of type InterpolationMode instead of int. Please, use InterpolationMode enum.\n",
      "  \"Argument interpolation should be of type InterpolationMode instead of int. \"\n",
      "-> Computing predictions with size 640x192\n",
      "100%|█████████████████████████████████████████| 117/117 [01:24<00:00,  1.39it/s]\n",
      "Predicting duration 166.69069981575012\n",
      "-> Saving predicted disparities to  history/model_26_09_lite/models_1/weights_1/disps_eigen_split2.npy\n",
      "-> Saving predicted max_depth to  history/model_26_09_lite/models_1/weights_1/max_depth_eigen_split2.npy\n",
      "-> Evaluating\n",
      "   Mono evaluation - using median scaling\n",
      "100%|████████████████████████████████████████| 697/697 [00:05<00:00, 128.03it/s]\n",
      " Scaling ratios | med: 32.231 | std: 0.138\n",
      "\n",
      "   abs_rel |   sq_rel |     rmse | rmse_log |       a1 |       a2 |       a3 |   md_mae | \n",
      "&   0.115  &   0.796  &   4.741  &   0.189  &   0.870  &   0.959  &   0.983  &   2.593  \\\\\n",
      "\n",
      "-> Done!\n",
      "infer_duration:233.69317960739136\n"
     ]
    }
   ],
   "source": [
    "start = time.time()\n",
    "!CUDA_VISIBLE_DEVICES=2 python evaluate_depth.py --load_weights_folder \"history/model_26_09_lite/models_1/weights_1\" \\\n",
    "                                                --png --eval_mono \\\n",
    "                                                --backbone mobile_net_v3 \\\n",
    "                                                --depth_decoder hr_depth \\\n",
    "                                                --predict_visibility \\\n",
    "                                                --save_pred_disps\n",
    "end = time.time()\n",
    "print(f'infer_duration:{end-start}')"
   ]
  },
  {
   "cell_type": "code",
   "execution_count": 5,
   "id": "921bccdd",
   "metadata": {},
   "outputs": [
    {
     "name": "stdout",
     "output_type": "stream",
     "text": [
      "Sun Oct  2 04:46:08 2022       \n",
      "+-----------------------------------------------------------------------------+\n",
      "| NVIDIA-SMI 418.67       Driver Version: 418.67       CUDA Version: 11.1     |\n",
      "|-------------------------------+----------------------+----------------------+\n",
      "| GPU  Name        Persistence-M| Bus-Id        Disp.A | Volatile Uncorr. ECC |\n",
      "| Fan  Temp  Perf  Pwr:Usage/Cap|         Memory-Usage | GPU-Util  Compute M. |\n",
      "|===============================+======================+======================|\n",
      "|   0  Tesla V100-SXM2...  On   | 00000000:06:00.0 Off |                    0 |\n",
      "| N/A   27C    P0    52W / 300W |  32478MiB / 32480MiB |      0%      Default |\n",
      "+-------------------------------+----------------------+----------------------+\n",
      "|   1  Tesla V100-SXM2...  On   | 00000000:07:00.0 Off |                    0 |\n",
      "| N/A   36C    P0   165W / 300W |  12564MiB / 32480MiB |     29%      Default |\n",
      "+-------------------------------+----------------------+----------------------+\n",
      "|   2  Tesla V100-SXM2...  On   | 00000000:0A:00.0 Off |                    0 |\n",
      "| N/A   40C    P0    69W / 300W |  17032MiB / 32480MiB |     90%      Default |\n",
      "+-------------------------------+----------------------+----------------------+\n",
      "|   3  Tesla V100-SXM2...  On   | 00000000:0B:00.0 Off |                    0 |\n",
      "| N/A   40C    P0    75W / 300W |  13311MiB / 32480MiB |     51%      Default |\n",
      "+-------------------------------+----------------------+----------------------+\n",
      "                                                                               \n",
      "+-----------------------------------------------------------------------------+\n",
      "| Processes:                                                       GPU Memory |\n",
      "|  GPU       PID   Type   Process name                             Usage      |\n",
      "|=============================================================================|\n",
      "+-----------------------------------------------------------------------------+\n"
     ]
    }
   ],
   "source": [
    "!nvidia-smi"
   ]
  },
  {
   "cell_type": "code",
   "execution_count": 62,
   "id": "691ed59b",
   "metadata": {
    "collapsed": true
   },
   "outputs": [
    {
     "name": "stdout",
     "output_type": "stream",
     "text": [
      "-> Loading model from  models/mobile_hr\n",
      "   Loading pretrained encoder:mobile_net_v3\n",
      "   Loading pretrained decoder: hr_depth\n",
      "-> Predicting on 1 test images\n",
      "   Processed 1 of 1 images - saved predictions to:\n",
      "   - assets/0000000005_disp.jpeg\n",
      "   - assets/0000000005_disp.npy\n",
      "-> Done!\n"
     ]
    }
   ],
   "source": [
    "# !CUDA_VISIBLE_DEVICES=3 python test_simple.py --image_path assets/0000000005.png --model_name mobile_hr --backbone mobile_net_v3 --depth_decoder hr_depth"
   ]
  }
 ],
 "metadata": {
  "kernelspec": {
   "display_name": "Python 3 (ipykernel)",
   "language": "python",
   "name": "python3"
  },
  "language_info": {
   "codemirror_mode": {
    "name": "ipython",
    "version": 3
   },
   "file_extension": ".py",
   "mimetype": "text/x-python",
   "name": "python",
   "nbconvert_exporter": "python",
   "pygments_lexer": "ipython3",
   "version": "3.7.11"
  }
 },
 "nbformat": 4,
 "nbformat_minor": 5
}
